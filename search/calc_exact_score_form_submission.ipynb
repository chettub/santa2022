{
 "cells": [
  {
   "cell_type": "code",
   "execution_count": 47,
   "metadata": {},
   "outputs": [],
   "source": [
    "import pandas as pd\n"
   ]
  },
  {
   "cell_type": "code",
   "execution_count": 48,
   "metadata": {},
   "outputs": [],
   "source": [
    "def submission_to_solution(submission_file):\n",
    "    '''convert submission file to a list of configs'''\n",
    "    df_submission = pd.read_csv(submission_file)\n",
    "    solution = []\n",
    "    for row in df_submission[:]['configuration'].items():\n",
    "        solution.append([[int(p) for p in r.split(' ')] for r in row[1].split(';')])\n",
    "    return solution"
   ]
  },
  {
   "cell_type": "code",
   "execution_count": null,
   "metadata": {},
   "outputs": [],
   "source": []
  },
  {
   "cell_type": "code",
   "execution_count": 49,
   "metadata": {},
   "outputs": [
    {
     "data": {
      "text/plain": [
       "[[[64, 0], [-32, 0], [-16, 0], [-8, 0], [-4, 0], [-2, 0], [-1, 0], [-1, 0]],\n",
       " [[64, 1], [-32, 0], [-16, 0], [-8, 0], [-4, 0], [-2, 0], [-1, 0], [-1, 0]],\n",
       " [[64, 1], [-32, 0], [-16, 0], [-8, 0], [-4, 1], [-2, 0], [-1, 0], [-1, 0]]]"
      ]
     },
     "execution_count": 49,
     "metadata": {},
     "output_type": "execute_result"
    }
   ],
   "source": [
    "sol[:3]"
   ]
  },
  {
   "cell_type": "code",
   "execution_count": null,
   "metadata": {},
   "outputs": [],
   "source": []
  },
  {
   "cell_type": "code",
   "execution_count": 50,
   "metadata": {},
   "outputs": [],
   "source": [
    "from decimal import Decimal, getcontext\n",
    "getcontext().prec = 40\n",
    "import argparse\n",
    "import sys\n",
    "import io\n",
    "# from time import time, sleep\n",
    "from pathlib import Path\n",
    "# import multiprocessing\n",
    "# from threading import Thread\n",
    "# from subprocess import Popen, PIPE\n",
    "import subprocess\n",
    "from functools import *\n",
    "from itertools import *\n",
    "\n",
    "import numpy as np\n",
    "import pandas as pd\n",
    "from copy import copy\n",
    "\n",
    "# getcontext().prec = 100  # \n",
    "# getcontext().prec = 100\n",
    "\n",
    "# Functions to map between cartesian coordinates and array indexes\n",
    "def cartesian_to_array(x, y, shape=(257,257)):\n",
    "    m, n = shape[:2]\n",
    "    i = (n - 1) // 2 - y\n",
    "    j = (n - 1) // 2 + x\n",
    "    if i < 0 or i >= m or j < 0 or j >= n:\n",
    "        raise ValueError(\"Coordinates not within given dimensions.\")\n",
    "    return i, j\n",
    "\n",
    "\n",
    "def array_to_cartesian(i, j, shape=(257,257)):\n",
    "    m, n = shape[:2]\n",
    "    if i < 0 or i >= m or j < 0 or j >= n:\n",
    "        raise ValueError(\"Coordinates not within given dimensions.\")\n",
    "    y = (n - 1) // 2 - i\n",
    "    x = j - (n - 1) // 2\n",
    "    return x, y\n",
    "\n",
    "def get_position(config):\n",
    "    return reduce(lambda p, q: (p[0] + q[0], p[1] + q[1]), config, (0, 0))\n",
    "\n",
    "def df_to_image(df):\n",
    "    side = int(len(df) ** 0.5)  # assumes a square image\n",
    "    return df_image.set_index(['x', 'y']).to_numpy().reshape(side, side, -1)\n",
    "\n",
    "class Cost:\n",
    "    def __init__(self):\n",
    "        self.cnt1 = Decimal(0)\n",
    "        self.cnt2 = Decimal(0)\n",
    "        self.cnt3 = Decimal(0)\n",
    "        self.cnt5 = Decimal(0)\n",
    "        self.cnt6 = Decimal(0)\n",
    "        self.cnt7 = Decimal(0)\n",
    "\n",
    "    def add_reconf(self, man: int):\n",
    "        if man == 1:\n",
    "            self.cnt1 += 1\n",
    "        elif man == 2:\n",
    "            self.cnt2 += 1\n",
    "        elif man == 3:\n",
    "            self.cnt3 += 1\n",
    "        elif man == 4:\n",
    "            self.cnt1 += 2\n",
    "        elif man == 5:\n",
    "            self.cnt5 += 1\n",
    "        elif man == 6:\n",
    "            self.cnt6 += 1\n",
    "        elif man == 7:\n",
    "            self.cnt7 += 1\n",
    "        elif man == 8:\n",
    "            self.cnt2 += 2\n",
    "        else: # man == 0\n",
    "            pass\n",
    "\n",
    "    def add_color(self, c: Decimal):\n",
    "        self.cnt1 += c\n",
    "    \n",
    "    def __str__(self):\n",
    "        res = str(self.cnt1)\n",
    "        res += \" + \"\n",
    "        res += str(self.cnt2) + \"*sqrt(2)\"\n",
    "        res += \" + \"\n",
    "        res += str(self.cnt3) + \"*sqrt(3)\"\n",
    "        res += \" + \"\n",
    "        res += str(self.cnt5) + \"*sqrt(5)\"\n",
    "        res += \" + \"\n",
    "        res += str(self.cnt6) + \"*sqrt(6)\"\n",
    "        res += \" + \"\n",
    "        res += str(self.cnt7) + \"*sqrt(7)\"\n",
    "        return res\n",
    "    \n",
    "    def get_total(self):\n",
    "        res = self.cnt1\n",
    "        res += Decimal(\"2\").sqrt() * self.cnt2\n",
    "        res += Decimal(\"3\").sqrt() * self.cnt3\n",
    "        res += Decimal(\"5\").sqrt() * self.cnt5\n",
    "        res += Decimal(\"6\").sqrt() * self.cnt6\n",
    "        res += Decimal(\"7\").sqrt() * self.cnt7\n",
    "        return res\n",
    "\n",
    "def calc_costs(path, image):\n",
    "    cost = Cost()\n",
    "\n",
    "    ppos = [cartesian_to_array(*p, image.shape) for p in path]\n",
    "    for p1, p2 in zip(ppos[:-1], ppos[1:]):\n",
    "        cost.add_reconf(abs(p1[0] - p2[0]) + abs(p1[1] - p2[1]))\n",
    "        color_diff = image[p1] - image[p2]\n",
    "        color_diff = color_diff[0].copy_abs() + color_diff[1].copy_abs() + color_diff[2].copy_abs()\n",
    "        cost.add_color(Decimal(3) * color_diff)\n",
    "    return cost\n"
   ]
  },
  {
   "cell_type": "code",
   "execution_count": 51,
   "metadata": {},
   "outputs": [],
   "source": [
    "image_file = Path(\"./\").resolve().parent / \"input/image.csv\"\n",
    "with open(image_file, \"r\") as f:\n",
    "    lines = f.readlines()\n",
    "pos = []\n",
    "for l in lines[1:]:\n",
    "    vals = l.split(\",\")\n",
    "    pos.append((int(vals[0]), int(vals[1])))\n",
    "\n",
    "image = []\n",
    "for l in lines[1:]:\n",
    "    vals = l.split(\",\")\n",
    "    image.append([Decimal(vals[2]), Decimal(vals[3]), Decimal(vals[4])])\n",
    "image = np.array(image).reshape(257, 257, -1)"
   ]
  },
  {
   "cell_type": "code",
   "execution_count": 52,
   "metadata": {},
   "outputs": [],
   "source": [
    "sol = submission_to_solution(\"./submission_0_74075.70654.csv\")\n",
    "path = []\n",
    "for s in sol:\n",
    "    x = 0\n",
    "    y = 0\n",
    "    for p in s:\n",
    "        x += p[0]\n",
    "        y += p[1]\n",
    "    path.append([x, y])"
   ]
  },
  {
   "cell_type": "code",
   "execution_count": 53,
   "metadata": {},
   "outputs": [],
   "source": [
    "# path = [cartesian_to_array(*p) for p in path]\n",
    "# path = [(p[0]-128, p[1]-128) for p in path]"
   ]
  },
  {
   "cell_type": "code",
   "execution_count": 54,
   "metadata": {},
   "outputs": [
    {
     "data": {
      "text/plain": [
       "[[0, 0], [0, 1], [0, 2]]"
      ]
     },
     "execution_count": 54,
     "metadata": {},
     "output_type": "execute_result"
    }
   ],
   "source": [
    "path[:3]"
   ]
  },
  {
   "cell_type": "code",
   "execution_count": 55,
   "metadata": {},
   "outputs": [],
   "source": [
    "cost = calc_costs(path, image)\n"
   ]
  },
  {
   "cell_type": "code",
   "execution_count": 56,
   "metadata": {},
   "outputs": [
    {
     "data": {
      "text/plain": [
       "'70199.117647058823076570 + 2234*sqrt(2) + 369*sqrt(3) + 27*sqrt(5) + 4*sqrt(6) + 3*sqrt(7)'"
      ]
     },
     "execution_count": 56,
     "metadata": {},
     "output_type": "execute_result"
    }
   ],
   "source": [
    "str(cost)"
   ]
  },
  {
   "cell_type": "code",
   "execution_count": 57,
   "metadata": {},
   "outputs": [
    {
     "data": {
      "text/plain": [
       "Decimal('74075.70654169005394287194198251561821613')"
      ]
     },
     "execution_count": 57,
     "metadata": {},
     "output_type": "execute_result"
    }
   ],
   "source": [
    "cost.get_total()"
   ]
  },
  {
   "cell_type": "code",
   "execution_count": 58,
   "metadata": {},
   "outputs": [
    {
     "data": {
      "text/plain": [
       "74075.70654169006"
      ]
     },
     "execution_count": 58,
     "metadata": {},
     "output_type": "execute_result"
    }
   ],
   "source": [
    "74075.706541690053942871941"
   ]
  },
  {
   "cell_type": "code",
   "execution_count": null,
   "metadata": {},
   "outputs": [],
   "source": []
  }
 ],
 "metadata": {
  "kernelspec": {
   "display_name": "bot",
   "language": "python",
   "name": "python3"
  },
  "language_info": {
   "codemirror_mode": {
    "name": "ipython",
    "version": 3
   },
   "file_extension": ".py",
   "mimetype": "text/x-python",
   "name": "python",
   "nbconvert_exporter": "python",
   "pygments_lexer": "ipython3",
   "version": "3.10.4"
  },
  "orig_nbformat": 4,
  "vscode": {
   "interpreter": {
    "hash": "3154dfa9153c53b7e029455fd074032766ed77d7bac931fe3d27ba7480e69e80"
   }
  }
 },
 "nbformat": 4,
 "nbformat_minor": 2
}
